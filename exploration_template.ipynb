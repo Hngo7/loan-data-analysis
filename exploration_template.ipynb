{
 "cells": [
  {
   "cell_type": "markdown",
   "metadata": {
    "slideshow": {
     "slide_type": "slide"
    }
   },
   "source": [
    "# Prosper Loan Data Analysis"
   ]
  },
  {
   "cell_type": "markdown",
   "metadata": {
    "slideshow": {
     "slide_type": "slide"
    }
   },
   "source": [
    "## Introduction"
   ]
  },
  {
   "cell_type": "markdown",
   "metadata": {
    "slideshow": {
     "slide_type": "skip"
    }
   },
   "source": [
    "In this notebook, I will try to investigate this dataset, get insights from them, then visualization the results. I choose Prosper Loan Dataset because I was a banker before and I have some experience in the Loan process.\n",
    "\n",
    "Original dataset can be downloadable from the internet: https://s3.amazonaws.com/udacity-hosted-downloads/ud651/prosperLoanData.csv.\n",
    "\n",
    "This data set contains 113,937 loans with 81 variables on each loan, including loan amount, borrower rate (or interest rate), current loan status, borrower income, and many others. However, we are not expected to explore all of the variables in the dataset! We will focus our exploration on about 10-15 of them.\n",
    "\n",
    "For those who are not familiar with financial indexes, this attached link can be useful to refer to any terms you don't know: https://docs.google.com/spreadsheets/d/1gDyi_L4UvIrLTEC6Wri5nbaMmkGmLQBk-Yx3z0XDEtI/edit?usp=sharing\n",
    "\n",
    "The scope of this analysis is to find some common features of Prosper Loan Clients as well as some factors that may affect their loan status."
   ]
  },
  {
   "cell_type": "markdown",
   "metadata": {
    "slideshow": {
     "slide_type": "slide"
    }
   },
   "source": [
    "## Wrangling the data\n",
    "We will start with cleaning the dataset, dropping some unneccessary and irrelevant data, filling some missing data with our caculated algorithm, then finally analyzing and visualizing it."
   ]
  },
  {
   "cell_type": "code",
   "execution_count": 200,
   "metadata": {
    "slideshow": {
     "slide_type": "skip"
    }
   },
   "outputs": [],
   "source": [
    "#Imports some needed library, setting default style\n",
    "import math\n",
    "import datetime\n",
    "import numpy as np\n",
    "import pandas as pd\n",
    "from scipy import stats as st\n",
    "import matplotlib.pyplot as plt\n",
    "import seaborn as sns\n",
    "%matplotlib inline\n",
    "sns.set_style(\"whitegrid\")\n",
    "sns.set_context({\"figure.figsize\": (15, 7.5)})"
   ]
  },
  {
   "cell_type": "code",
   "execution_count": 201,
   "metadata": {
    "scrolled": false,
    "slideshow": {
     "slide_type": "skip"
    }
   },
   "outputs": [],
   "source": [
    "#REad data from csv file \n",
    "df = pd.read_csv(\"prosperLoanData.csv\")"
   ]
  },
  {
   "cell_type": "code",
   "execution_count": 202,
   "metadata": {
    "slideshow": {
     "slide_type": "skip"
    }
   },
   "outputs": [
    {
     "data": {
      "text/html": [
       "<div>\n",
       "<style scoped>\n",
       "    .dataframe tbody tr th:only-of-type {\n",
       "        vertical-align: middle;\n",
       "    }\n",
       "\n",
       "    .dataframe tbody tr th {\n",
       "        vertical-align: top;\n",
       "    }\n",
       "\n",
       "    .dataframe thead th {\n",
       "        text-align: right;\n",
       "    }\n",
       "</style>\n",
       "<table border=\"1\" class=\"dataframe\">\n",
       "  <thead>\n",
       "    <tr style=\"text-align: right;\">\n",
       "      <th></th>\n",
       "      <th>ListingKey</th>\n",
       "      <th>ListingNumber</th>\n",
       "      <th>ListingCreationDate</th>\n",
       "      <th>CreditGrade</th>\n",
       "      <th>Term</th>\n",
       "      <th>LoanStatus</th>\n",
       "      <th>ClosedDate</th>\n",
       "      <th>BorrowerAPR</th>\n",
       "      <th>BorrowerRate</th>\n",
       "      <th>LenderYield</th>\n",
       "      <th>...</th>\n",
       "      <th>LP_ServiceFees</th>\n",
       "      <th>LP_CollectionFees</th>\n",
       "      <th>LP_GrossPrincipalLoss</th>\n",
       "      <th>LP_NetPrincipalLoss</th>\n",
       "      <th>LP_NonPrincipalRecoverypayments</th>\n",
       "      <th>PercentFunded</th>\n",
       "      <th>Recommendations</th>\n",
       "      <th>InvestmentFromFriendsCount</th>\n",
       "      <th>InvestmentFromFriendsAmount</th>\n",
       "      <th>Investors</th>\n",
       "    </tr>\n",
       "  </thead>\n",
       "  <tbody>\n",
       "    <tr>\n",
       "      <th>0</th>\n",
       "      <td>1021339766868145413AB3B</td>\n",
       "      <td>193129</td>\n",
       "      <td>2007-08-26 19:09:29.263000000</td>\n",
       "      <td>C</td>\n",
       "      <td>36</td>\n",
       "      <td>Completed</td>\n",
       "      <td>2009-08-14 00:00:00</td>\n",
       "      <td>0.16516</td>\n",
       "      <td>0.1580</td>\n",
       "      <td>0.1380</td>\n",
       "      <td>...</td>\n",
       "      <td>-133.18</td>\n",
       "      <td>0.0</td>\n",
       "      <td>0.0</td>\n",
       "      <td>0.0</td>\n",
       "      <td>0.0</td>\n",
       "      <td>1.0</td>\n",
       "      <td>0</td>\n",
       "      <td>0</td>\n",
       "      <td>0.0</td>\n",
       "      <td>258</td>\n",
       "    </tr>\n",
       "    <tr>\n",
       "      <th>1</th>\n",
       "      <td>10273602499503308B223C1</td>\n",
       "      <td>1209647</td>\n",
       "      <td>2014-02-27 08:28:07.900000000</td>\n",
       "      <td>NaN</td>\n",
       "      <td>36</td>\n",
       "      <td>Current</td>\n",
       "      <td>NaN</td>\n",
       "      <td>0.12016</td>\n",
       "      <td>0.0920</td>\n",
       "      <td>0.0820</td>\n",
       "      <td>...</td>\n",
       "      <td>0.00</td>\n",
       "      <td>0.0</td>\n",
       "      <td>0.0</td>\n",
       "      <td>0.0</td>\n",
       "      <td>0.0</td>\n",
       "      <td>1.0</td>\n",
       "      <td>0</td>\n",
       "      <td>0</td>\n",
       "      <td>0.0</td>\n",
       "      <td>1</td>\n",
       "    </tr>\n",
       "    <tr>\n",
       "      <th>2</th>\n",
       "      <td>0EE9337825851032864889A</td>\n",
       "      <td>81716</td>\n",
       "      <td>2007-01-05 15:00:47.090000000</td>\n",
       "      <td>HR</td>\n",
       "      <td>36</td>\n",
       "      <td>Completed</td>\n",
       "      <td>2009-12-17 00:00:00</td>\n",
       "      <td>0.28269</td>\n",
       "      <td>0.2750</td>\n",
       "      <td>0.2400</td>\n",
       "      <td>...</td>\n",
       "      <td>-24.20</td>\n",
       "      <td>0.0</td>\n",
       "      <td>0.0</td>\n",
       "      <td>0.0</td>\n",
       "      <td>0.0</td>\n",
       "      <td>1.0</td>\n",
       "      <td>0</td>\n",
       "      <td>0</td>\n",
       "      <td>0.0</td>\n",
       "      <td>41</td>\n",
       "    </tr>\n",
       "    <tr>\n",
       "      <th>3</th>\n",
       "      <td>0EF5356002482715299901A</td>\n",
       "      <td>658116</td>\n",
       "      <td>2012-10-22 11:02:35.010000000</td>\n",
       "      <td>NaN</td>\n",
       "      <td>36</td>\n",
       "      <td>Current</td>\n",
       "      <td>NaN</td>\n",
       "      <td>0.12528</td>\n",
       "      <td>0.0974</td>\n",
       "      <td>0.0874</td>\n",
       "      <td>...</td>\n",
       "      <td>-108.01</td>\n",
       "      <td>0.0</td>\n",
       "      <td>0.0</td>\n",
       "      <td>0.0</td>\n",
       "      <td>0.0</td>\n",
       "      <td>1.0</td>\n",
       "      <td>0</td>\n",
       "      <td>0</td>\n",
       "      <td>0.0</td>\n",
       "      <td>158</td>\n",
       "    </tr>\n",
       "    <tr>\n",
       "      <th>4</th>\n",
       "      <td>0F023589499656230C5E3E2</td>\n",
       "      <td>909464</td>\n",
       "      <td>2013-09-14 18:38:39.097000000</td>\n",
       "      <td>NaN</td>\n",
       "      <td>36</td>\n",
       "      <td>Current</td>\n",
       "      <td>NaN</td>\n",
       "      <td>0.24614</td>\n",
       "      <td>0.2085</td>\n",
       "      <td>0.1985</td>\n",
       "      <td>...</td>\n",
       "      <td>-60.27</td>\n",
       "      <td>0.0</td>\n",
       "      <td>0.0</td>\n",
       "      <td>0.0</td>\n",
       "      <td>0.0</td>\n",
       "      <td>1.0</td>\n",
       "      <td>0</td>\n",
       "      <td>0</td>\n",
       "      <td>0.0</td>\n",
       "      <td>20</td>\n",
       "    </tr>\n",
       "  </tbody>\n",
       "</table>\n",
       "<p>5 rows × 81 columns</p>\n",
       "</div>"
      ],
      "text/plain": [
       "                ListingKey  ListingNumber            ListingCreationDate  \\\n",
       "0  1021339766868145413AB3B         193129  2007-08-26 19:09:29.263000000   \n",
       "1  10273602499503308B223C1        1209647  2014-02-27 08:28:07.900000000   \n",
       "2  0EE9337825851032864889A          81716  2007-01-05 15:00:47.090000000   \n",
       "3  0EF5356002482715299901A         658116  2012-10-22 11:02:35.010000000   \n",
       "4  0F023589499656230C5E3E2         909464  2013-09-14 18:38:39.097000000   \n",
       "\n",
       "  CreditGrade  Term LoanStatus           ClosedDate  BorrowerAPR  \\\n",
       "0           C    36  Completed  2009-08-14 00:00:00      0.16516   \n",
       "1         NaN    36    Current                  NaN      0.12016   \n",
       "2          HR    36  Completed  2009-12-17 00:00:00      0.28269   \n",
       "3         NaN    36    Current                  NaN      0.12528   \n",
       "4         NaN    36    Current                  NaN      0.24614   \n",
       "\n",
       "   BorrowerRate  LenderYield    ...     LP_ServiceFees  LP_CollectionFees  \\\n",
       "0        0.1580       0.1380    ...            -133.18                0.0   \n",
       "1        0.0920       0.0820    ...               0.00                0.0   \n",
       "2        0.2750       0.2400    ...             -24.20                0.0   \n",
       "3        0.0974       0.0874    ...            -108.01                0.0   \n",
       "4        0.2085       0.1985    ...             -60.27                0.0   \n",
       "\n",
       "   LP_GrossPrincipalLoss  LP_NetPrincipalLoss LP_NonPrincipalRecoverypayments  \\\n",
       "0                    0.0                  0.0                             0.0   \n",
       "1                    0.0                  0.0                             0.0   \n",
       "2                    0.0                  0.0                             0.0   \n",
       "3                    0.0                  0.0                             0.0   \n",
       "4                    0.0                  0.0                             0.0   \n",
       "\n",
       "   PercentFunded  Recommendations InvestmentFromFriendsCount  \\\n",
       "0            1.0                0                          0   \n",
       "1            1.0                0                          0   \n",
       "2            1.0                0                          0   \n",
       "3            1.0                0                          0   \n",
       "4            1.0                0                          0   \n",
       "\n",
       "  InvestmentFromFriendsAmount Investors  \n",
       "0                         0.0       258  \n",
       "1                         0.0         1  \n",
       "2                         0.0        41  \n",
       "3                         0.0       158  \n",
       "4                         0.0        20  \n",
       "\n",
       "[5 rows x 81 columns]"
      ]
     },
     "execution_count": 202,
     "metadata": {},
     "output_type": "execute_result"
    }
   ],
   "source": [
    "#Taking a look at the head of the data frame\n",
    "df.head()"
   ]
  },
  {
   "cell_type": "code",
   "execution_count": 203,
   "metadata": {
    "slideshow": {
     "slide_type": "skip"
    }
   },
   "outputs": [
    {
     "name": "stdout",
     "output_type": "stream",
     "text": [
      "<class 'pandas.core.frame.DataFrame'>\n",
      "RangeIndex: 113937 entries, 0 to 113936\n",
      "Data columns (total 81 columns):\n",
      "ListingKey                             113937 non-null object\n",
      "ListingNumber                          113937 non-null int64\n",
      "ListingCreationDate                    113937 non-null object\n",
      "CreditGrade                            28953 non-null object\n",
      "Term                                   113937 non-null int64\n",
      "LoanStatus                             113937 non-null object\n",
      "ClosedDate                             55089 non-null object\n",
      "BorrowerAPR                            113912 non-null float64\n",
      "BorrowerRate                           113937 non-null float64\n",
      "LenderYield                            113937 non-null float64\n",
      "EstimatedEffectiveYield                84853 non-null float64\n",
      "EstimatedLoss                          84853 non-null float64\n",
      "EstimatedReturn                        84853 non-null float64\n",
      "ProsperRating (numeric)                84853 non-null float64\n",
      "ProsperRating (Alpha)                  84853 non-null object\n",
      "ProsperScore                           84853 non-null float64\n",
      "ListingCategory (numeric)              113937 non-null int64\n",
      "BorrowerState                          108422 non-null object\n",
      "Occupation                             110349 non-null object\n",
      "EmploymentStatus                       111682 non-null object\n",
      "EmploymentStatusDuration               106312 non-null float64\n",
      "IsBorrowerHomeowner                    113937 non-null bool\n",
      "CurrentlyInGroup                       113937 non-null bool\n",
      "GroupKey                               13341 non-null object\n",
      "DateCreditPulled                       113937 non-null object\n",
      "CreditScoreRangeLower                  113346 non-null float64\n",
      "CreditScoreRangeUpper                  113346 non-null float64\n",
      "FirstRecordedCreditLine                113240 non-null object\n",
      "CurrentCreditLines                     106333 non-null float64\n",
      "OpenCreditLines                        106333 non-null float64\n",
      "TotalCreditLinespast7years             113240 non-null float64\n",
      "OpenRevolvingAccounts                  113937 non-null int64\n",
      "OpenRevolvingMonthlyPayment            113937 non-null float64\n",
      "InquiriesLast6Months                   113240 non-null float64\n",
      "TotalInquiries                         112778 non-null float64\n",
      "CurrentDelinquencies                   113240 non-null float64\n",
      "AmountDelinquent                       106315 non-null float64\n",
      "DelinquenciesLast7Years                112947 non-null float64\n",
      "PublicRecordsLast10Years               113240 non-null float64\n",
      "PublicRecordsLast12Months              106333 non-null float64\n",
      "RevolvingCreditBalance                 106333 non-null float64\n",
      "BankcardUtilization                    106333 non-null float64\n",
      "AvailableBankcardCredit                106393 non-null float64\n",
      "TotalTrades                            106393 non-null float64\n",
      "TradesNeverDelinquent (percentage)     106393 non-null float64\n",
      "TradesOpenedLast6Months                106393 non-null float64\n",
      "DebtToIncomeRatio                      105383 non-null float64\n",
      "IncomeRange                            113937 non-null object\n",
      "IncomeVerifiable                       113937 non-null bool\n",
      "StatedMonthlyIncome                    113937 non-null float64\n",
      "LoanKey                                113937 non-null object\n",
      "TotalProsperLoans                      22085 non-null float64\n",
      "TotalProsperPaymentsBilled             22085 non-null float64\n",
      "OnTimeProsperPayments                  22085 non-null float64\n",
      "ProsperPaymentsLessThanOneMonthLate    22085 non-null float64\n",
      "ProsperPaymentsOneMonthPlusLate        22085 non-null float64\n",
      "ProsperPrincipalBorrowed               22085 non-null float64\n",
      "ProsperPrincipalOutstanding            22085 non-null float64\n",
      "ScorexChangeAtTimeOfListing            18928 non-null float64\n",
      "LoanCurrentDaysDelinquent              113937 non-null int64\n",
      "LoanFirstDefaultedCycleNumber          16952 non-null float64\n",
      "LoanMonthsSinceOrigination             113937 non-null int64\n",
      "LoanNumber                             113937 non-null int64\n",
      "LoanOriginalAmount                     113937 non-null int64\n",
      "LoanOriginationDate                    113937 non-null object\n",
      "LoanOriginationQuarter                 113937 non-null object\n",
      "MemberKey                              113937 non-null object\n",
      "MonthlyLoanPayment                     113937 non-null float64\n",
      "LP_CustomerPayments                    113937 non-null float64\n",
      "LP_CustomerPrincipalPayments           113937 non-null float64\n",
      "LP_InterestandFees                     113937 non-null float64\n",
      "LP_ServiceFees                         113937 non-null float64\n",
      "LP_CollectionFees                      113937 non-null float64\n",
      "LP_GrossPrincipalLoss                  113937 non-null float64\n",
      "LP_NetPrincipalLoss                    113937 non-null float64\n",
      "LP_NonPrincipalRecoverypayments        113937 non-null float64\n",
      "PercentFunded                          113937 non-null float64\n",
      "Recommendations                        113937 non-null int64\n",
      "InvestmentFromFriendsCount             113937 non-null int64\n",
      "InvestmentFromFriendsAmount            113937 non-null float64\n",
      "Investors                              113937 non-null int64\n",
      "dtypes: bool(3), float64(50), int64(11), object(17)\n",
      "memory usage: 68.1+ MB\n"
     ]
    }
   ],
   "source": [
    "#Taking a look at the whole data frame, columns name, identifying missing value and data type \n",
    "df.info()"
   ]
  },
  {
   "cell_type": "markdown",
   "metadata": {
    "slideshow": {
     "slide_type": "subslide"
    }
   },
   "source": [
    "This data frame, in general, is having some issues that need to be solved.\n",
    "\n",
    "- At first, there are many variables that are not important or we don't need due to the limit of our analysis. Getting rid of them will make the dataset easier to read and understand.\n",
    "\n",
    "- Secondly, there are too many cells that have Null value, abnormal value and improper types noticed in some columns. Some of them can be calculated/inputted with algorithm. The more comprehensive the dataframe has, the more easier the analysis task is."
   ]
  },
  {
   "cell_type": "markdown",
   "metadata": {
    "slideshow": {
     "slide_type": "skip"
    }
   },
   "source": [
    "###  Firstly, dropping redundant, unnecessary columns is the initial step to make the data set more clean. It makes we only focusing on the leftover important variables."
   ]
  },
  {
   "cell_type": "code",
   "execution_count": 204,
   "metadata": {
    "slideshow": {
     "slide_type": "skip"
    }
   },
   "outputs": [],
   "source": [
    "# Those columns are unnecessary as we make no use of them\n",
    "df.drop([\"ListingKey\", \"ListingNumber\", \"LoanKey\", \"LoanNumber\", \n",
    "         \"MemberKey\"], axis=1, inplace=True)"
   ]
  },
  {
   "cell_type": "code",
   "execution_count": 205,
   "metadata": {
    "slideshow": {
     "slide_type": "skip"
    }
   },
   "outputs": [],
   "source": [
    "# I don't think we have anything to deal with date data as they have pretty much no effect to the outcome of the loan\n",
    "df.drop([\"ListingCreationDate\", \"ClosedDate\", \"DateCreditPulled\", \n",
    "         \"LoanOriginationDate\", \"LoanMonthsSinceOrigination\", \n",
    "         \"LoanOriginationQuarter\"], axis=1, inplace=True)"
   ]
  },
  {
   "cell_type": "code",
   "execution_count": 206,
   "metadata": {
    "slideshow": {
     "slide_type": "skip"
    }
   },
   "outputs": [],
   "source": [
    "#Loan history similiarly has very few impact on the loan's status of clients\n",
    "df.drop([\"LoanCurrentDaysDelinquent\", \"LoanFirstDefaultedCycleNumber\", \n",
    "         \"LP_CustomerPayments\", \"LP_CustomerPrincipalPayments\", \"LP_InterestandFees\", \n",
    "         \"LP_ServiceFees\", \"LP_CollectionFees\", \"LP_GrossPrincipalLoss\",\n",
    "         \"LP_NetPrincipalLoss\", \"LP_NonPrincipalRecoverypayments\"], axis=1, inplace=True)"
   ]
  },
  {
   "cell_type": "code",
   "execution_count": 207,
   "metadata": {
    "slideshow": {
     "slide_type": "skip"
    }
   },
   "outputs": [],
   "source": [
    "# Similarity, there are some of the credit atributes are not really the important value for further analysis\n",
    "df.drop([\"CreditGrade\", \"EmploymentStatusDuration\", \"FirstRecordedCreditLine\", \"CurrentCreditLines\", \n",
    "         \"TotalCreditLinespast7years\", \"ScorexChangeAtTimeOfListing\", \"ProsperRating (Alpha)\", \n",
    "         \"Occupation\", \"CurrentlyInGroup\", \"GroupKey\", \"IncomeRange\", \"PercentFunded\"], axis = 1, inplace = True)"
   ]
  },
  {
   "cell_type": "code",
   "execution_count": 208,
   "metadata": {
    "slideshow": {
     "slide_type": "skip"
    }
   },
   "outputs": [],
   "source": [
    "# Investment information and recommendations are unnessccessary too\n",
    "df.drop([\"Recommendations\", \"InvestmentFromFriendsCount\", \"InvestmentFromFriendsAmount\", \"Investors\"], axis = 1, inplace = True)"
   ]
  },
  {
   "cell_type": "code",
   "execution_count": 209,
   "metadata": {
    "slideshow": {
     "slide_type": "skip"
    }
   },
   "outputs": [
    {
     "name": "stdout",
     "output_type": "stream",
     "text": [
      "<class 'pandas.core.frame.DataFrame'>\n",
      "RangeIndex: 113937 entries, 0 to 113936\n",
      "Data columns (total 44 columns):\n",
      "Term                                   113937 non-null int64\n",
      "LoanStatus                             113937 non-null object\n",
      "BorrowerAPR                            113912 non-null float64\n",
      "BorrowerRate                           113937 non-null float64\n",
      "LenderYield                            113937 non-null float64\n",
      "EstimatedEffectiveYield                84853 non-null float64\n",
      "EstimatedLoss                          84853 non-null float64\n",
      "EstimatedReturn                        84853 non-null float64\n",
      "ProsperRating (numeric)                84853 non-null float64\n",
      "ProsperScore                           84853 non-null float64\n",
      "ListingCategory (numeric)              113937 non-null int64\n",
      "BorrowerState                          108422 non-null object\n",
      "EmploymentStatus                       111682 non-null object\n",
      "IsBorrowerHomeowner                    113937 non-null bool\n",
      "CreditScoreRangeLower                  113346 non-null float64\n",
      "CreditScoreRangeUpper                  113346 non-null float64\n",
      "OpenCreditLines                        106333 non-null float64\n",
      "OpenRevolvingAccounts                  113937 non-null int64\n",
      "OpenRevolvingMonthlyPayment            113937 non-null float64\n",
      "InquiriesLast6Months                   113240 non-null float64\n",
      "TotalInquiries                         112778 non-null float64\n",
      "CurrentDelinquencies                   113240 non-null float64\n",
      "AmountDelinquent                       106315 non-null float64\n",
      "DelinquenciesLast7Years                112947 non-null float64\n",
      "PublicRecordsLast10Years               113240 non-null float64\n",
      "PublicRecordsLast12Months              106333 non-null float64\n",
      "RevolvingCreditBalance                 106333 non-null float64\n",
      "BankcardUtilization                    106333 non-null float64\n",
      "AvailableBankcardCredit                106393 non-null float64\n",
      "TotalTrades                            106393 non-null float64\n",
      "TradesNeverDelinquent (percentage)     106393 non-null float64\n",
      "TradesOpenedLast6Months                106393 non-null float64\n",
      "DebtToIncomeRatio                      105383 non-null float64\n",
      "IncomeVerifiable                       113937 non-null bool\n",
      "StatedMonthlyIncome                    113937 non-null float64\n",
      "TotalProsperLoans                      22085 non-null float64\n",
      "TotalProsperPaymentsBilled             22085 non-null float64\n",
      "OnTimeProsperPayments                  22085 non-null float64\n",
      "ProsperPaymentsLessThanOneMonthLate    22085 non-null float64\n",
      "ProsperPaymentsOneMonthPlusLate        22085 non-null float64\n",
      "ProsperPrincipalBorrowed               22085 non-null float64\n",
      "ProsperPrincipalOutstanding            22085 non-null float64\n",
      "LoanOriginalAmount                     113937 non-null int64\n",
      "MonthlyLoanPayment                     113937 non-null float64\n",
      "dtypes: bool(2), float64(35), int64(4), object(3)\n",
      "memory usage: 36.7+ MB\n"
     ]
    }
   ],
   "source": [
    "# Take a look at the data set now\n",
    "df.info()"
   ]
  },
  {
   "cell_type": "markdown",
   "metadata": {
    "slideshow": {
     "slide_type": "skip"
    }
   },
   "source": [
    "### Secondly, we continue with filling missing value for the data set, setting their value right for the analizing process"
   ]
  },
  {
   "cell_type": "markdown",
   "metadata": {
    "slideshow": {
     "slide_type": "skip"
    }
   },
   "source": [
    "APR is an important value, however, there are 113912 BorrowerAPR value instead of 113937 in the dataset. An easy fix is to caculate the missing APR as we know that BorrowerAPR = BorrowerRate + fee. So we can caculate the median fee, then add them to the missing cells."
   ]
  },
  {
   "cell_type": "code",
   "execution_count": 210,
   "metadata": {
    "slideshow": {
     "slide_type": "skip"
    }
   },
   "outputs": [
    {
     "data": {
      "text/plain": [
       "0.025019999999999987"
      ]
     },
     "execution_count": 210,
     "metadata": {},
     "output_type": "execute_result"
    }
   ],
   "source": [
    "borrower_fees = df[\"BorrowerAPR\"] - df[\"BorrowerRate\"]\n",
    "borrower_fees.median()"
   ]
  },
  {
   "cell_type": "code",
   "execution_count": 211,
   "metadata": {
    "slideshow": {
     "slide_type": "skip"
    }
   },
   "outputs": [
    {
     "data": {
      "text/plain": [
       "0"
      ]
     },
     "execution_count": 211,
     "metadata": {},
     "output_type": "execute_result"
    }
   ],
   "source": [
    "df[\"BorrowerAPR\"].fillna(df[\"BorrowerRate\"] + borrower_fees.median(), inplace=True)\n",
    "# Recheck to make sure the cells are filled\n",
    "df[\"BorrowerAPR\"].isnull().sum()"
   ]
  },
  {
   "cell_type": "markdown",
   "metadata": {
    "slideshow": {
     "slide_type": "skip"
    }
   },
   "source": [
    "EstimatedEffectiveYield, EstimatedLoss, EstimatedReturn are the next in line as they have only 84853 value compare to 113937 value of the whole dataset "
   ]
  },
  {
   "cell_type": "code",
   "execution_count": 212,
   "metadata": {
    "slideshow": {
     "slide_type": "skip"
    }
   },
   "outputs": [
    {
     "data": {
      "text/plain": [
       "0.01915"
      ]
     },
     "execution_count": 212,
     "metadata": {},
     "output_type": "execute_result"
    }
   ],
   "source": [
    "#Effective yield is equal to the borrower interest rate (i) minus the servicing fee rate, (ii) minus estimated uncollected interest on charge-offs, (iii) plus estimated collected late fees\n",
    "estimated_loss_from_fees = df[\"BorrowerRate\"] - df[\"EstimatedEffectiveYield\"]\n",
    "estimated_loss_from_fees.median()"
   ]
  },
  {
   "cell_type": "code",
   "execution_count": 213,
   "metadata": {
    "slideshow": {
     "slide_type": "skip"
    }
   },
   "outputs": [
    {
     "data": {
      "text/plain": [
       "0"
      ]
     },
     "execution_count": 213,
     "metadata": {},
     "output_type": "execute_result"
    }
   ],
   "source": [
    "df[\"EstimatedEffectiveYield\"].fillna(df[\"BorrowerRate\"] - estimated_loss_from_fees.median(), inplace=True)\n",
    "df[\"EstimatedEffectiveYield\"].isnull().sum()"
   ]
  },
  {
   "cell_type": "code",
   "execution_count": 214,
   "metadata": {
    "slideshow": {
     "slide_type": "skip"
    }
   },
   "outputs": [
    {
     "data": {
      "text/plain": [
       "29084"
      ]
     },
     "execution_count": 214,
     "metadata": {},
     "output_type": "execute_result"
    }
   ],
   "source": [
    "# Estimated loss is the estimated principal loss on charge-offs. We can fill the EstimatedLoss missing cells with their median\n",
    "df[\"EstimatedLoss\"].isnull().sum()"
   ]
  },
  {
   "cell_type": "code",
   "execution_count": 215,
   "metadata": {
    "slideshow": {
     "slide_type": "skip"
    }
   },
   "outputs": [
    {
     "data": {
      "text/plain": [
       "0"
      ]
     },
     "execution_count": 215,
     "metadata": {},
     "output_type": "execute_result"
    }
   ],
   "source": [
    "df[\"EstimatedLoss\"].fillna(df[\"EstimatedLoss\"].median(), inplace=True)\n",
    "df[\"EstimatedLoss\"].isnull().sum()"
   ]
  },
  {
   "cell_type": "code",
   "execution_count": 216,
   "metadata": {
    "slideshow": {
     "slide_type": "skip"
    }
   },
   "outputs": [
    {
     "data": {
      "text/plain": [
       "0"
      ]
     },
     "execution_count": 216,
     "metadata": {},
     "output_type": "execute_result"
    }
   ],
   "source": [
    "#Estimated return is the difference between the Estimated Effective Yield and the Estimated Loss Rate.\n",
    "df[\"EstimatedReturn\"].fillna(df[\"EstimatedEffectiveYield\"] - df[\"EstimatedLoss\"], inplace=True)\n",
    "df[\"EstimatedReturn\"].isnull().sum()"
   ]
  },
  {
   "cell_type": "code",
   "execution_count": 217,
   "metadata": {
    "slideshow": {
     "slide_type": "skip"
    }
   },
   "outputs": [],
   "source": [
    "#The numeric ProsperRating and the ProsperScore NaNs can both be replaced with median values.\n",
    "df[\"ProsperRating (numeric)\"].fillna(df[\"ProsperRating (numeric)\"].median(), inplace=True)\n",
    "df[\"ProsperScore\"].fillna(df[\"ProsperScore\"].median(), inplace=True)"
   ]
  },
  {
   "cell_type": "code",
   "execution_count": 218,
   "metadata": {
    "scrolled": false,
    "slideshow": {
     "slide_type": "skip"
    }
   },
   "outputs": [
    {
     "data": {
      "text/plain": [
       "Term                                   8554\n",
       "LoanStatus                             8554\n",
       "BorrowerAPR                            8554\n",
       "BorrowerRate                           8554\n",
       "LenderYield                            8554\n",
       "EstimatedEffectiveYield                8554\n",
       "EstimatedLoss                          8554\n",
       "EstimatedReturn                        8554\n",
       "ProsperRating (numeric)                8554\n",
       "ProsperScore                           8554\n",
       "ListingCategory (numeric)              8554\n",
       "BorrowerState                          8482\n",
       "EmploymentStatus                       8525\n",
       "IsBorrowerHomeowner                    8554\n",
       "CreditScoreRangeLower                  8548\n",
       "CreditScoreRangeUpper                  8548\n",
       "OpenCreditLines                        8430\n",
       "OpenRevolvingAccounts                  8554\n",
       "OpenRevolvingMonthlyPayment            8554\n",
       "InquiriesLast6Months                   8442\n",
       "TotalInquiries                         8539\n",
       "CurrentDelinquencies                   8442\n",
       "AmountDelinquent                       8410\n",
       "DelinquenciesLast7Years                8442\n",
       "PublicRecordsLast10Years               8442\n",
       "PublicRecordsLast12Months              8430\n",
       "RevolvingCreditBalance                 8430\n",
       "BankcardUtilization                    8430\n",
       "AvailableBankcardCredit                8432\n",
       "TotalTrades                            8432\n",
       "TradesNeverDelinquent (percentage)     8432\n",
       "TradesOpenedLast6Months                8432\n",
       "DebtToIncomeRatio                         0\n",
       "IncomeVerifiable                       8554\n",
       "StatedMonthlyIncome                    8554\n",
       "TotalProsperLoans                      2170\n",
       "TotalProsperPaymentsBilled             2170\n",
       "OnTimeProsperPayments                  2170\n",
       "ProsperPaymentsLessThanOneMonthLate    2170\n",
       "ProsperPaymentsOneMonthPlusLate        2170\n",
       "ProsperPrincipalBorrowed               2170\n",
       "ProsperPrincipalOutstanding            2170\n",
       "LoanOriginalAmount                     8554\n",
       "MonthlyLoanPayment                     8554\n",
       "dtype: int64"
      ]
     },
     "execution_count": 218,
     "metadata": {},
     "output_type": "execute_result"
    }
   ],
   "source": [
    "#To fix Missing debt to income ratio\n",
    "#We want to see how many debt to income ratio cell are missing \n",
    "df_debt_income_null = df[df[\"DebtToIncomeRatio\"].isnull()]\n",
    "df_debt_income_null.count()"
   ]
  },
  {
   "cell_type": "markdown",
   "metadata": {
    "slideshow": {
     "slide_type": "skip"
    }
   },
   "source": [
    "We stated that 8554 rows have missing debt to income ratio. However, fortunately, the index can be easily caculate using MonthlyLoanPayment and StatedMonthlyIncome"
   ]
  },
  {
   "cell_type": "code",
   "execution_count": 219,
   "metadata": {
    "scrolled": true,
    "slideshow": {
     "slide_type": "skip"
    }
   },
   "outputs": [
    {
     "data": {
      "text/plain": [
       "15"
      ]
     },
     "execution_count": 219,
     "metadata": {},
     "output_type": "execute_result"
    }
   ],
   "source": [
    "df[\"DebtToIncomeRatio\"].fillna(df[\"MonthlyLoanPayment\"] / df[\"StatedMonthlyIncome\"], inplace = True)\n",
    "df[\"DebtToIncomeRatio\"].isnull().sum()"
   ]
  },
  {
   "cell_type": "code",
   "execution_count": 220,
   "metadata": {
    "slideshow": {
     "slide_type": "skip"
    }
   },
   "outputs": [
    {
     "data": {
      "text/plain": [
       "5169      0.0\n",
       "14054     0.0\n",
       "19922     0.0\n",
       "24284     0.0\n",
       "26810     0.0\n",
       "39343     0.0\n",
       "55429     0.0\n",
       "57630     0.0\n",
       "60207     0.0\n",
       "61498     0.0\n",
       "80964     0.0\n",
       "90499     0.0\n",
       "93386     0.0\n",
       "95696     0.0\n",
       "104466    0.0\n",
       "Name: StatedMonthlyIncome, dtype: float64"
      ]
     },
     "execution_count": 220,
     "metadata": {},
     "output_type": "execute_result"
    }
   ],
   "source": [
    "#Still have 15 cells can't be filled? I think the problem may be related to the denominator. let's check\n",
    "df_debt_income_still_null = df[df[\"DebtToIncomeRatio\"].isnull()]\n",
    "df_debt_income_still_null[\"StatedMonthlyIncome\"]"
   ]
  },
  {
   "cell_type": "code",
   "execution_count": 221,
   "metadata": {
    "slideshow": {
     "slide_type": "skip"
    }
   },
   "outputs": [
    {
     "data": {
      "text/plain": [
       "5169     NaN\n",
       "14054    NaN\n",
       "19922    NaN\n",
       "24284    NaN\n",
       "26810    NaN\n",
       "39343    NaN\n",
       "55429    NaN\n",
       "57630    NaN\n",
       "60207    NaN\n",
       "61498    NaN\n",
       "80964    NaN\n",
       "90499    NaN\n",
       "93386    NaN\n",
       "95696    NaN\n",
       "104466   NaN\n",
       "Name: DebtToIncomeRatio, dtype: float64"
      ]
     },
     "execution_count": 221,
     "metadata": {},
     "output_type": "execute_result"
    }
   ],
   "source": [
    "# My solution is to fill those value with unknown\n",
    "df_debt_income_still_null= df_debt_income_still_null['DebtToIncomeRatio'].replace(\"Unknown\")\n",
    "df_debt_income_still_null"
   ]
  },
  {
   "cell_type": "markdown",
   "metadata": {
    "slideshow": {
     "slide_type": "skip"
    }
   },
   "source": [
    "Now we take a look at Credit score. Since we have two columns named CreditScoreRangeLower and CreditScoreRangeUpper, simplifying them by taking the medium then create a new column named CreditScore. It would be much easier for us to analyze that index"
   ]
  },
  {
   "cell_type": "code",
   "execution_count": 222,
   "metadata": {
    "slideshow": {
     "slide_type": "skip"
    }
   },
   "outputs": [],
   "source": [
    "df[\"CreditScoreRangeUpper\"]=(df[\"CreditScoreRangeUpper\"] + df[\"CreditScoreRangeLower\"])/2\n",
    "df.rename(index = str, columns={\"CreditScoreRangeUpper\": \"CreditScore\"}, inplace=True)\n",
    "df.drop(columns = \"CreditScoreRangeLower\", inplace = True)"
   ]
  },
  {
   "cell_type": "code",
   "execution_count": 223,
   "metadata": {
    "slideshow": {
     "slide_type": "skip"
    }
   },
   "outputs": [
    {
     "data": {
      "text/plain": [
       "0         649.5\n",
       "1         689.5\n",
       "2         489.5\n",
       "3         809.5\n",
       "4         689.5\n",
       "5         749.5\n",
       "6         689.5\n",
       "7         709.5\n",
       "8         829.5\n",
       "9         829.5\n",
       "10        649.5\n",
       "11        649.5\n",
       "12        689.5\n",
       "13        749.5\n",
       "14        749.5\n",
       "15        709.5\n",
       "16        649.5\n",
       "17        769.5\n",
       "18        749.5\n",
       "19        689.5\n",
       "20        669.5\n",
       "21        629.5\n",
       "22        709.5\n",
       "23        689.5\n",
       "24        669.5\n",
       "25        689.5\n",
       "26        669.5\n",
       "27        709.5\n",
       "28        729.5\n",
       "29        749.5\n",
       "          ...  \n",
       "113907    649.5\n",
       "113908    709.5\n",
       "113909    809.5\n",
       "113910    649.5\n",
       "113911    669.5\n",
       "113912    809.5\n",
       "113913    789.5\n",
       "113914    529.5\n",
       "113915    629.5\n",
       "113916    669.5\n",
       "113917    669.5\n",
       "113918    749.5\n",
       "113919    689.5\n",
       "113920    749.5\n",
       "113921      NaN\n",
       "113922    649.5\n",
       "113923    709.5\n",
       "113924    649.5\n",
       "113925    689.5\n",
       "113926    549.5\n",
       "113927    769.5\n",
       "113928    749.5\n",
       "113929    669.5\n",
       "113930    689.5\n",
       "113931    809.5\n",
       "113932    709.5\n",
       "113933    709.5\n",
       "113934    709.5\n",
       "113935    689.5\n",
       "113936    689.5\n",
       "Name: CreditScore, Length: 113937, dtype: float64"
      ]
     },
     "execution_count": 223,
     "metadata": {},
     "output_type": "execute_result"
    }
   ],
   "source": [
    "df[\"CreditScore\"]"
   ]
  },
  {
   "cell_type": "code",
   "execution_count": 224,
   "metadata": {
    "scrolled": false,
    "slideshow": {
     "slide_type": "skip"
    }
   },
   "outputs": [
    {
     "name": "stdout",
     "output_type": "stream",
     "text": [
      "<class 'pandas.core.frame.DataFrame'>\n",
      "Index: 113937 entries, 0 to 113936\n",
      "Data columns (total 43 columns):\n",
      "Term                                   113937 non-null int64\n",
      "LoanStatus                             113937 non-null object\n",
      "BorrowerAPR                            113937 non-null float64\n",
      "BorrowerRate                           113937 non-null float64\n",
      "LenderYield                            113937 non-null float64\n",
      "EstimatedEffectiveYield                113937 non-null float64\n",
      "EstimatedLoss                          113937 non-null float64\n",
      "EstimatedReturn                        113937 non-null float64\n",
      "ProsperRating (numeric)                113937 non-null float64\n",
      "ProsperScore                           113937 non-null float64\n",
      "ListingCategory (numeric)              113937 non-null int64\n",
      "BorrowerState                          108422 non-null object\n",
      "EmploymentStatus                       111682 non-null object\n",
      "IsBorrowerHomeowner                    113937 non-null bool\n",
      "CreditScore                            113346 non-null float64\n",
      "OpenCreditLines                        106333 non-null float64\n",
      "OpenRevolvingAccounts                  113937 non-null int64\n",
      "OpenRevolvingMonthlyPayment            113937 non-null float64\n",
      "InquiriesLast6Months                   113240 non-null float64\n",
      "TotalInquiries                         112778 non-null float64\n",
      "CurrentDelinquencies                   113240 non-null float64\n",
      "AmountDelinquent                       106315 non-null float64\n",
      "DelinquenciesLast7Years                112947 non-null float64\n",
      "PublicRecordsLast10Years               113240 non-null float64\n",
      "PublicRecordsLast12Months              106333 non-null float64\n",
      "RevolvingCreditBalance                 106333 non-null float64\n",
      "BankcardUtilization                    106333 non-null float64\n",
      "AvailableBankcardCredit                106393 non-null float64\n",
      "TotalTrades                            106393 non-null float64\n",
      "TradesNeverDelinquent (percentage)     106393 non-null float64\n",
      "TradesOpenedLast6Months                106393 non-null float64\n",
      "DebtToIncomeRatio                      113922 non-null float64\n",
      "IncomeVerifiable                       113937 non-null bool\n",
      "StatedMonthlyIncome                    113937 non-null float64\n",
      "TotalProsperLoans                      22085 non-null float64\n",
      "TotalProsperPaymentsBilled             22085 non-null float64\n",
      "OnTimeProsperPayments                  22085 non-null float64\n",
      "ProsperPaymentsLessThanOneMonthLate    22085 non-null float64\n",
      "ProsperPaymentsOneMonthPlusLate        22085 non-null float64\n",
      "ProsperPrincipalBorrowed               22085 non-null float64\n",
      "ProsperPrincipalOutstanding            22085 non-null float64\n",
      "LoanOriginalAmount                     113937 non-null int64\n",
      "MonthlyLoanPayment                     113937 non-null float64\n",
      "dtypes: bool(2), float64(34), int64(4), object(3)\n",
      "memory usage: 41.7+ MB\n"
     ]
    }
   ],
   "source": [
    "df.info()"
   ]
  },
  {
   "cell_type": "markdown",
   "metadata": {
    "slideshow": {
     "slide_type": "skip"
    }
   },
   "source": [
    "Scrolling down to the bottom, one can not deny that we are missing too many value in TotalProsperLoans and some columns next to it "
   ]
  },
  {
   "cell_type": "code",
   "execution_count": 225,
   "metadata": {
    "scrolled": false,
    "slideshow": {
     "slide_type": "skip"
    }
   },
   "outputs": [
    {
     "data": {
      "text/plain": [
       "Term                                      0\n",
       "LoanStatus                                0\n",
       "BorrowerAPR                               0\n",
       "BorrowerRate                              0\n",
       "LenderYield                               0\n",
       "EstimatedEffectiveYield                   0\n",
       "EstimatedLoss                             0\n",
       "EstimatedReturn                           0\n",
       "ProsperRating (numeric)                   0\n",
       "ProsperScore                              0\n",
       "ListingCategory (numeric)                 0\n",
       "BorrowerState                          5515\n",
       "EmploymentStatus                       2255\n",
       "IsBorrowerHomeowner                       0\n",
       "CreditScore                             591\n",
       "OpenCreditLines                        7604\n",
       "OpenRevolvingAccounts                     0\n",
       "OpenRevolvingMonthlyPayment               0\n",
       "InquiriesLast6Months                    697\n",
       "TotalInquiries                         1159\n",
       "CurrentDelinquencies                    697\n",
       "AmountDelinquent                       7622\n",
       "DelinquenciesLast7Years                 990\n",
       "PublicRecordsLast10Years                697\n",
       "PublicRecordsLast12Months              7604\n",
       "RevolvingCreditBalance                 7604\n",
       "BankcardUtilization                    7604\n",
       "AvailableBankcardCredit                7544\n",
       "TotalTrades                            7544\n",
       "TradesNeverDelinquent (percentage)     7544\n",
       "TradesOpenedLast6Months                7544\n",
       "DebtToIncomeRatio                        15\n",
       "IncomeVerifiable                          0\n",
       "StatedMonthlyIncome                       0\n",
       "TotalProsperLoans                         0\n",
       "TotalProsperPaymentsBilled                0\n",
       "OnTimeProsperPayments                     0\n",
       "ProsperPaymentsLessThanOneMonthLate       0\n",
       "ProsperPaymentsOneMonthPlusLate           0\n",
       "ProsperPrincipalBorrowed                  0\n",
       "ProsperPrincipalOutstanding               0\n",
       "LoanOriginalAmount                        0\n",
       "MonthlyLoanPayment                        0\n",
       "dtype: int64"
      ]
     },
     "execution_count": 225,
     "metadata": {},
     "output_type": "execute_result"
    }
   ],
   "source": [
    "# Filling those value with 0 may solve the problem\n",
    "to_fill_column= [\"TotalProsperLoans\",\"TotalProsperPaymentsBilled\", \"OnTimeProsperPayments\", \n",
    "                \"ProsperPaymentsLessThanOneMonthLate\", \"ProsperPaymentsOneMonthPlusLate\", \n",
    "                \"ProsperPrincipalBorrowed\", \"ProsperPrincipalOutstanding\"]\n",
    "df[to_fill_column] = df[to_fill_column].fillna(0)\n",
    "df.isnull().sum()"
   ]
  },
  {
   "cell_type": "code",
   "execution_count": 226,
   "metadata": {
    "scrolled": true,
    "slideshow": {
     "slide_type": "skip"
    }
   },
   "outputs": [
    {
     "data": {
      "text/plain": [
       "LoanStatus             0\n",
       "BorrowerState          0\n",
       "EmploymentStatus       0\n",
       "IsBorrowerHomeowner    0\n",
       "IncomeVerifiable       0\n",
       "dtype: int64"
      ]
     },
     "execution_count": 226,
     "metadata": {},
     "output_type": "execute_result"
    }
   ],
   "source": [
    "# replacing those remaining Null value with \"Unknown\"\n",
    "object_type_col = df.select_dtypes(include=[\"object\"]).columns.values\n",
    "df[object_type_col] = df[object_type_col].fillna(\"Unknown\")\n",
    "df.select_dtypes(exclude=[np.number]).isnull().sum()"
   ]
  },
  {
   "cell_type": "markdown",
   "metadata": {
    "slideshow": {
     "slide_type": "slide"
    }
   },
   "source": [
    "## Visualizing the data"
   ]
  },
  {
   "cell_type": "markdown",
   "metadata": {
    "slideshow": {
     "slide_type": "slide"
    }
   },
   "source": [
    "### Loan Purpose by Category\n",
    "Loan purpose is an important index as it can easily tell us the validity of clients' request when they start applying to the loan. When a loan purpose doesn't fit the bank policy, client can be rejected form the beginning process."
   ]
  },
  {
   "cell_type": "code",
   "execution_count": 227,
   "metadata": {
    "scrolled": true,
    "slideshow": {
     "slide_type": "skip"
    }
   },
   "outputs": [
    {
     "data": {
      "text/plain": [
       "RV                  52\n",
       "Green               59\n",
       "Boat                85\n",
       "Cosmetic            91\n",
       "Baby               199\n",
       "Engagement         217\n",
       "Motorcycle         304\n",
       "Student            756\n",
       "Vacation           768\n",
       "Wedding            771\n",
       "LargePurchase      876\n",
       "Taxes              885\n",
       "Medical           1522\n",
       "Household         1996\n",
       "Personal          2395\n",
       "Auto              2572\n",
       "Business          7189\n",
       "Reno              7433\n",
       "Other            10494\n",
       "Unknown          16965\n",
       "Debt             58308\n",
       "Name: ListingCategory, dtype: int64"
      ]
     },
     "execution_count": 227,
     "metadata": {},
     "output_type": "execute_result"
    }
   ],
   "source": [
    "# To get insight from this index, we have to convert ListingCategory columns into an easy read data in stead of just numbers.\n",
    "df.replace(to_replace={\"ListingCategory (numeric)\": {0: \"Unknown\", 1: \"Debt\", 2: \"Reno\", 3: \"Business\", 4: \"Personal\",\n",
    "                                                                5: \"Student\", 6: \"Auto\", 7: \"Other\", 8: \"Baby\", 9: \"Boat\", \n",
    "                                                                10: \"Cosmetic\", 11: \"Engagement\", 12: \"Green\", 13: \"Household\",\n",
    "                                                                14: \"LargePurchase\", 15: \"Medical\", 16: \"Motorcycle\", 17: \"RV\",\n",
    "                                                                18: \"Taxes\", 19: \"Vacation\", 20: \"Wedding\"}}, inplace=True)\n",
    "df.rename(index=str, columns={\"ListingCategory (numeric)\": \"ListingCategory\"}, inplace=True)\n",
    "# Sorting category for a better looking graph\n",
    "listing_category = df[\"ListingCategory\"].value_counts().sort_values()\n",
    "listing_category"
   ]
  },
  {
   "cell_type": "code",
   "execution_count": 228,
   "metadata": {
    "scrolled": true,
    "slideshow": {
     "slide_type": "subslide"
    }
   },
   "outputs": [
    {
     "data": {
      "image/png": "[encoded data removed]",
      "text/plain": [
       "<Figure size 576x432 with 1 Axes>"
      ]
     },
     "metadata": {},
     "output_type": "display_data"
    }
   ],
   "source": [
    "# using Horizontal bar\n",
    "listing_category.plot.barh(figsize= (8,6))\n",
    "plt.xlabel('Value Counts', fontsize=10)\n",
    "plt.ylabel('Loan Purpose', fontsize=10)\n",
    "plt.title('Loan Purpose by Category')\n",
    "plt.show()"
   ]
  },
  {
   "cell_type": "markdown",
   "metadata": {
    "slideshow": {
     "slide_type": "skip"
    }
   },
   "source": [
    "As illustrated in the graph, \"For paying debt\" purpose accounts for a vast majority of the loan purpose. It may be a regular sense of some financial companies but It is not a good news from the Macroeconomics point of view. Having a new debt to pay for another debt may indicate that the consumer's financial strength is rely mostly on financial leverage instead of their true asset."
   ]
  },
  {
   "cell_type": "markdown",
   "metadata": {
    "slideshow": {
     "slide_type": "slide"
    }
   },
   "source": [
    "### Credit Score by Prosper Score\n",
    "Credit Score has a big impact on the acceptance rate and borrowing rate of the loan. Prosper Loan Company, on the other hand, has developed their own score to rate their clients. We will see how comparative these two index are when they are placed next to each other."
   ]
  },
  {
   "cell_type": "code",
   "execution_count": 229,
   "metadata": {
    "scrolled": true,
    "slideshow": {
     "slide_type": "subslide"
    }
   },
   "outputs": [
    {
     "name": "stderr",
     "output_type": "stream",
     "text": [
      "C:\\Users\\Quanghuy289\\Anaconda3\\lib\\site-packages\\scipy\\stats\\stats.py:1713: FutureWarning: Using a non-tuple sequence for multidimensional indexing is deprecated; use `arr[tuple(seq)]` instead of `arr[seq]`. In the future this will be interpreted as an array index, `arr[np.array(seq)]`, which will result either in an error or a different result.\n",
      "  return np.add.reduce(sorted[indexer] * weights, axis=axis) / sumval\n"
     ]
    },
    {
     "data": {
      "text/plain": [
       "(400, 1000)"
      ]
     },
     "execution_count": 229,
     "metadata": {},
     "output_type": "execute_result"
    },
    {
     "data": {
      "image/png": "[encoded data removed]",
      "text/plain": [
       "<Figure size 1080x540 with 1 Axes>"
      ]
     },
     "metadata": {},
     "output_type": "display_data"
    }
   ],
   "source": [
    "ax = sns.violinplot(x= 'ProsperScore', y ='CreditScore', data = df, scale ='width' )\n",
    "ax.set_title(\"Credit Score by Prosper Score\")\n",
    "plt.ylim(400,1000)"
   ]
  },
  {
   "cell_type": "markdown",
   "metadata": {
    "slideshow": {
     "slide_type": "skip"
    }
   },
   "source": [
    "Prosper Score seems to be evenly distributed among a scale of 10. CreditScore have a very litte impact to the clients's Prosper Score. I would think that they are using some other indexes for creating clients' Prosper Score."
   ]
  },
  {
   "cell_type": "markdown",
   "metadata": {
    "slideshow": {
     "slide_type": "slide"
    }
   },
   "source": [
    "### Employment Status of the Borrower\n",
    "Employement status is another category that show the financial status of debtor. The higher chance they are employed and having a full-time job, the higher chance they have their income to pay for their loan installment."
   ]
  },
  {
   "cell_type": "code",
   "execution_count": 230,
   "metadata": {
    "scrolled": true,
    "slideshow": {
     "slide_type": "skip"
    }
   },
   "outputs": [
    {
     "data": {
      "text/plain": [
       "Employed         67322\n",
       "Full-time        26355\n",
       "Self-employed     6134\n",
       "Not available     5347\n",
       "Other             3806\n",
       "Unknown           2255\n",
       "Part-time         1088\n",
       "Not employed       835\n",
       "Retired            795\n",
       "Name: EmploymentStatus, dtype: int64"
      ]
     },
     "execution_count": 230,
     "metadata": {},
     "output_type": "execute_result"
    }
   ],
   "source": [
    "df['EmploymentStatus'].value_counts()"
   ]
  },
  {
   "cell_type": "code",
   "execution_count": 231,
   "metadata": {
    "slideshow": {
     "slide_type": "skip"
    }
   },
   "outputs": [
    {
     "data": {
      "text/plain": [
       "Employed         67322\n",
       "Full-time        26355\n",
       "Unknown           7602\n",
       "Self-employed     6134\n",
       "Other             3806\n",
       "Part-time         1088\n",
       "Not employed       835\n",
       "Retired            795\n",
       "Name: EmploymentStatus, dtype: int64"
      ]
     },
     "execution_count": 231,
     "metadata": {},
     "output_type": "execute_result"
    }
   ],
   "source": [
    "#We replace 'Not available' to 'Unknown' as they are the same category\n",
    "df['EmploymentStatus'].replace({'Not available' : 'Unknown'}, inplace = True)\n",
    "df['EmploymentStatus'].value_counts()"
   ]
  },
  {
   "cell_type": "code",
   "execution_count": 232,
   "metadata": {
    "slideshow": {
     "slide_type": "subslide"
    }
   },
   "outputs": [
    {
     "data": {
      "image/png": "[encoded data removed]",
      "text/plain": [
       "<Figure size 1080x540 with 1 Axes>"
      ]
     },
     "metadata": {},
     "output_type": "display_data"
    }
   ],
   "source": [
    "labels = ['Employed','Full_Time', 'Unknown', 'Self-employed', 'Other', 'Part-time', 'Not employed', 'Retired']\n",
    "plt.pie(df['EmploymentStatus'].value_counts(),autopct='%1.0f%%', startangle=90, pctdistance=1.1, labeldistance=1.3)\n",
    "#creating a donut pie\n",
    "centre_circle = plt.Circle((0,0),0.70,fc='white')\n",
    "fig = plt.gcf()\n",
    "fig.gca().add_artist(centre_circle)\n",
    "\n",
    "#Adding title and legend\n",
    "plt.title('Employment Status of the Borrower')\n",
    "plt.legend(labels=labels)\n",
    "\n",
    "# Equal aspect ratio ensures that pie is drawn as a circle\n",
    "#plt.tight_layout()\n",
    "plt.axis('equal')\n",
    "plt.show()"
   ]
  },
  {
   "cell_type": "markdown",
   "metadata": {
    "slideshow": {
     "slide_type": "skip"
    }
   },
   "source": [
    "Employed clients account for 64% of the borrower, followed by Full-time and Self-employed with the high of 23% and 5% respectively. However, there are a total of around 13% fall in to Unknown, Not Employed and Other... category. That client should be followed to make a plan with a good source of income for them to be able to pay for the loan."
   ]
  },
  {
   "cell_type": "markdown",
   "metadata": {
    "slideshow": {
     "slide_type": "slide"
    }
   },
   "source": [
    "## Conclusion"
   ]
  },
  {
   "cell_type": "markdown",
   "metadata": {
    "slideshow": {
     "slide_type": "skip"
    }
   },
   "source": [
    "Prosper Loan Company does a good job in collecting their loan data of clients. However, It takes some steps in cleaning and simplifying the dataset before it ready to be used.\n",
    "It is a good practice for me to use my skills to analize and visualize these data. And from there, I think the company can have a good understanding of their clients as well as they can create a plan to better their products/services."
   ]
  }
 ],
 "metadata": {
  "celltoolbar": "Slideshow",
  "kernelspec": {
   "display_name": "Python [default]",
   "language": "python",
   "name": "python3"
  },
  "language_info": {
   "codemirror_mode": {
    "name": "ipython",
    "version": 3
   },
   "file_extension": ".py",
   "mimetype": "text/x-python",
   "name": "python",
   "nbconvert_exporter": "python",
   "pygments_lexer": "ipython3",
   "version": "3.6.6"
  }
 },
 "nbformat": 4,
 "nbformat_minor": 2
}
